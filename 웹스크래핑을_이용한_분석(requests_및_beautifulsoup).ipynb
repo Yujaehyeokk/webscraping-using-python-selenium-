{
  "nbformat": 4,
  "nbformat_minor": 0,
  "metadata": {
    "colab": {
      "provenance": []
    },
    "kernelspec": {
      "name": "python3",
      "display_name": "Python 3"
    },
    "language_info": {
      "name": "python"
    }
  },
  "cells": [
    {
      "cell_type": "markdown",
      "source": [
        "* 웹 스크래핑을 실행할 웹페이지 : https://www.airportal.go.kr/knowledge/statsnew/air/airport.jsp#\n",
        "\n",
        "* 참고한 블로그 https://dsc-sookmyung.tistory.com/85\n",
        "\n",
        "* https://wikidocs.net/172737\n",
        "\n",
        "\n",
        "* https://velog.io/@jisu0807/%EC%9B%B9%ED%81%AC%EB%A1%A4%EB%A7%81-BeautifulSoup%EC%97%90%EC%84%9C-find%EC%99%80-select-%EC%82%AC%EC%9A%A9%ED%95%98%EA%B8%B0"
      ],
      "metadata": {
        "id": "tAEV6oV8xN5m"
      }
    },
    {
      "cell_type": "code",
      "source": [
        "user_header={'User-Agent' : 'Mozilla/5.0 (Windows NT 10.0; Win64; x64) AppleWebKit/537.36 (KHTML, like Gecko) Chrome/115.0.0.0 Safari/537.36'}"
      ],
      "metadata": {
        "id": "047Os3PH9CpO"
      },
      "execution_count": null,
      "outputs": []
    },
    {
      "cell_type": "code",
      "source": [
        "import requests\n",
        "from bs4 import BeautifulSoup\n",
        "\n",
        "url='https://www.airportal.go.kr/knowledge/statsnew/air/airport.jsp'\n",
        "\n",
        "response = requests.post(url, headers=user_header)\n",
        "soup = BeautifulSoup(response.text, 'html.parser')"
      ],
      "metadata": {
        "id": "KFkOUONsxgpg"
      },
      "execution_count": null,
      "outputs": []
    },
    {
      "cell_type": "code",
      "source": [
        "soup.select('#mySheet-table')"
      ],
      "metadata": {
        "colab": {
          "base_uri": "https://localhost:8080/"
        },
        "id": "M-Y6tQS1AJba",
        "outputId": "d8d2ef82-cce0-486d-8fb4-a6d94b4e1d39"
      },
      "execution_count": null,
      "outputs": [
        {
          "output_type": "execute_result",
          "data": {
            "text/plain": [
              "[]"
            ]
          },
          "metadata": {},
          "execution_count": 26
        }
      ]
    },
    {
      "cell_type": "code",
      "source": [
        "soup"
      ],
      "metadata": {
        "id": "X1Nt7bYP0zHz"
      },
      "execution_count": null,
      "outputs": []
    },
    {
      "cell_type": "code",
      "source": [
        "print(soup.select('body'))\n",
        "print(soup.prettify)"
      ],
      "metadata": {
        "id": "tQocMe3Z6Ahl"
      },
      "execution_count": null,
      "outputs": []
    },
    {
      "cell_type": "code",
      "source": [
        "print(soup)"
      ],
      "metadata": {
        "id": "DaNnWNc50cr4"
      },
      "execution_count": null,
      "outputs": []
    },
    {
      "cell_type": "markdown",
      "source": [
        "######\n",
        "\n",
        "if response.status_code == 200:\n",
        "    # BeautifulSoup를 사용하여 HTML 파싱\n",
        "    soup = BeautifulSoup(response.text, 'html.parser')\n",
        "\n",
        "    # 원하는 데이터 추출 예시 (여기서는 제목 태그 예시)\n",
        "    title = soup.find('h1').text\n",
        "    print(title)\n",
        "else:\n",
        "    print(\"페이지 로드에 실패하였습니다.\")"
      ],
      "metadata": {
        "id": "68uIeo40wfAE"
      }
    },
    {
      "cell_type": "code",
      "source": [
        "# 원하는 데이터 추출\n",
        "data = soup.find_all('span')\n",
        "data"
      ],
      "metadata": {
        "colab": {
          "base_uri": "https://localhost:8080/"
        },
        "id": "lgjQdpjBwPmZ",
        "outputId": "773572af-ed91-4b13-895f-9ef816de9158"
      },
      "execution_count": null,
      "outputs": [
        {
          "output_type": "execute_result",
          "data": {
            "text/plain": [
              "[<span class=\"labelTitle\">시작년도</span>,\n",
              " <span class=\"labelTitle\">월</span>,\n",
              " <span class=\"labelTitle\">종료년도</span>,\n",
              " <span class=\"labelTitle\">월</span>,\n",
              " <span class=\"labelTitle\">여객</span>,\n",
              " <span class=\"labelTitle\">화물</span>,\n",
              " <span class=\"labelTitle\">공항</span>,\n",
              " <span class=\"labelTitle\">운항</span>,\n",
              " <span class=\"labelTitle\">노선</span>,\n",
              " <span class=\"labelTitle\">여객화물</span>,\n",
              " <span class=\"labelTitle\">출발/도착</span>,\n",
              " <span class=\"labelTitle\">그래프구분</span>,\n",
              " <span class=\"labelTitle\" id=\"searchText\"></span>,\n",
              " <span class=\"labelTitle\" style=\"position: relative; top: -20px;\">*항공통계 서비스 문의: 02)2669-8736, 8732</span>]"
            ]
          },
          "metadata": {},
          "execution_count": 33
        }
      ]
    },
    {
      "cell_type": "code",
      "source": [
        "#추출하고자하는 부분의 css selector (작동안됨)\n",
        "#mySheet-table > tbody > tr:nth-child(3) > td > div > div.GMPageOne > table > tbody > tr:nth-child(2) > td.GMClassReadOnly.GMWrap0.GMAlignRight.GMInt.GMCell.IBSheetFont0.HideCol0C2 > b > span"
      ],
      "metadata": {
        "id": "sHTcefDBx2Q8"
      },
      "execution_count": null,
      "outputs": []
    },
    {
      "cell_type": "code",
      "source": [
        "soup.select('html >  body > form.form-horizontal > div.GridMain1')"
      ],
      "metadata": {
        "colab": {
          "base_uri": "https://localhost:8080/"
        },
        "id": "mM-AoZTQw1_V",
        "outputId": "030f9c87-c6c6-4084-a9f5-9c6965bccb26"
      },
      "execution_count": null,
      "outputs": [
        {
          "output_type": "execute_result",
          "data": {
            "text/plain": [
              "[]"
            ]
          },
          "metadata": {},
          "execution_count": 34
        }
      ]
    },
    {
      "cell_type": "code",
      "source": [
        "soup.select('mySheet-table > tbody > tr:nth-child(3) > td > div > div.GMPageOne > table > tbody > tr:nth-child(2) > td.GMClassReadOnly.GMWrap0.GMAlignRight.GMInt.GMCell.IBSheetFont0.HideCol0C2 > b > span')"
      ],
      "metadata": {
        "colab": {
          "base_uri": "https://localhost:8080/"
        },
        "id": "hzHMBWuw33sc",
        "outputId": "e8195c74-1eb8-4aac-8e09-76c3767bc8c8"
      },
      "execution_count": null,
      "outputs": [
        {
          "output_type": "execute_result",
          "data": {
            "text/plain": [
              "[]"
            ]
          },
          "metadata": {},
          "execution_count": 31
        }
      ]
    },
    {
      "cell_type": "code",
      "source": [
        "soup.get_text()"
      ],
      "metadata": {
        "id": "fRPs4BX44xZz",
        "colab": {
          "base_uri": "https://localhost:8080/",
          "height": 219
        },
        "outputId": "56c877c0-a073-450e-ac30-99bafd1ba10a"
      },
      "execution_count": null,
      "outputs": [
        {
          "output_type": "execute_result",
          "data": {
            "text/plain": [
              "'\\n\\n\\n\\n항공통계\\n\\n\\n\\n\\n\\n\\n\\n\\n\\n\\n\\n\\n\\n\\n\\n\\n\\n\\n\\n\\n\\n\\n\\n\\n\\n\\n\\n\\n\\n\\n\\n\\n\\n\\n\\n\\n\\n\\n\\n\\n\\n\\n\\n\\xa0\\xa0닫기\\n\\n\\n\\n\\n\\n\\n\\n\\n\\n\\n\\n\\n\\n\\nHOME\\n항공통계\\n확정통계메뉴열기\\n\\n\\n확정통계\\n실시간통계\\n동향분석\\n종사자현황\\n참고자료\\n\\n\\n\\n공항메뉴열기\\n\\n\\n총괄\\n항공사\\n공항\\n노선별\\n지역/국가\\n시계열 통계\\n우리나라 항공운송 순위\\n주간랭킹\\n\\n\\n\\n\\n\\n\\n\\n\\n\\n\\n\\n\\n\\n\\n공항\\n\\n\\n\\n\\n\\n엑셀 다운로드\\n검색하기\\n\\n\\n\\n\\n시작년도\\n\\n\\n\\n월\\n\\n\\n1\\n2\\n3\\n4\\n5\\n6\\n7\\n8\\n9\\n10\\n11\\n12\\n\\n\\n종료년도\\n\\n\\n\\n월\\n\\n\\n1\\n2\\n3\\n4\\n5\\n6\\n7\\n8\\n9\\n10\\n11\\n12\\n\\n\\n\\n\\n\\n여객\\n\\n\\n전체\\n유임여객\\n무임여객\\n환승여객\\n유임 + 환승\\n\\n\\n화물\\n\\n\\n전체\\n순화물\\n수하물\\n우편물\\n\\n\\n\\n공항\\n\\n\\n\\n운항\\n\\n\\n\\n\\n\\n\\n노선\\n\\n\\n\\n여객화물\\n\\n\\n\\n출발/도착\\n\\n\\n\\n\\n\\n\\n그래프구분\\n\\n   여객 \\n   공급 \\n   운항 \\n   화물 \\n\\n\\n\\xa0\\xa0그래프보기\\n\\n\\n\\n\\n\\n항공운송통계는 국내선 출발, 국제선 출발+도착, 여객은 유임+환승 기준임\\n\\n\\n\\n\\n\\n\\n\\n*항공통계 서비스 문의: 02)2669-8736, 8732\\n\\n\\n\\n\\n\\n\\n\\n\\n\\n\\n\\n\\n\\n\\n\\n\\n\\n\\n\\r\\n            30103 세종특별자치시 도움6로 11 국토교통부 \\r\\n            \\n\\n\\n\\r\\n            07505 서울특별시 강서구 하늘길 38 국제선 청사 315호 \\r\\n            \\n\\n\\n\\n\\n\\n\\n\\n\\n'"
            ],
            "application/vnd.google.colaboratory.intrinsic+json": {
              "type": "string"
            }
          },
          "metadata": {},
          "execution_count": 19
        }
      ]
    },
    {
      "cell_type": "code",
      "source": [
        "#mySheet-table > tbody > tr:nth-chil`b(3) > td > div > div.GMPageOne > table > tbody > tr.GMDataRow.GMClassFocused > td.GMClassReadOnly.GMClassFocusedCell.GMWrap0.GMAlignRight.GMInt.GMCell.IBSheetFont0.HideCol0C2 > b > span"
      ],
      "metadata": {
        "id": "_gaCXthw25A_"
      },
      "execution_count": null,
      "outputs": []
    },
    {
      "cell_type": "code",
      "source": [
        "print(soup.select('html > body >form.form-horizontal > div.wrap > div.contentWrap > div#content_areaSub> #mySheet-table > tbody > tr:nth-child(3) > td > div.GMBodyMid > div.GMPageOne > table.GMSection > tbody > tr > td > b > span'))"
      ],
      "metadata": {
        "colab": {
          "base_uri": "https://localhost:8080/"
        },
        "id": "fQJtoXAdB-MT",
        "outputId": "1ff619ad-d0ef-41be-fcbb-12581161b6cc"
      },
      "execution_count": null,
      "outputs": [
        {
          "output_type": "stream",
          "name": "stdout",
          "text": [
            "[]\n"
          ]
        }
      ]
    },
    {
      "cell_type": "code",
      "source": [
        "print(soup.select('html > body >form.form-horizontal .wrap > .contentWrap > #content_areaSub > #contentsAreaSub > #realContents > .sectionConRDetail > .conLy > div:nth-of-type(3)'))"
      ],
      "metadata": {
        "colab": {
          "base_uri": "https://localhost:8080/"
        },
        "id": "VtHfVY7O61lA",
        "outputId": "3f864f59-f5f9-42b5-e8b8-65b8f3b64de5"
      },
      "execution_count": null,
      "outputs": [
        {
          "output_type": "stream",
          "name": "stdout",
          "text": [
            "[<div style=\"width:100%;height:500px;\">\n",
            "<script language=\"javascript\" type=\"text/javascript\">\r\n",
            "                                    //create IBSheet\r\n",
            "                                    createIBSheet(\"mySheet\", \"100%\", \"500px\");\r\n",
            "                                </script>\n",
            "</div>]\n"
          ]
        }
      ]
    }
  ]
}