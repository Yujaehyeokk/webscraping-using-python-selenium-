{
  "nbformat": 4,
  "nbformat_minor": 0,
  "metadata": {
    "colab": {
      "provenance": []
    },
    "kernelspec": {
      "name": "python3",
      "display_name": "Python 3"
    },
    "language_info": {
      "name": "python"
    }
  },
  "cells": [
    {
      "cell_type": "markdown",
      "source": [
        "크롬드라이버 설치 사이트 : https://googlechromelabs.github.io/chrome-for-testing/"
      ],
      "metadata": {
        "id": "3zBfVDABWsR6"
      }
    },
    {
      "cell_type": "code",
      "source": [
        "!pip install selenium"
      ],
      "metadata": {
        "id": "ceJ6wwSeUrMl",
        "outputId": "1db03252-8971-437a-f46d-0e3eceb109c7",
        "colab": {
          "base_uri": "https://localhost:8080/"
        }
      },
      "execution_count": 1,
      "outputs": [
        {
          "output_type": "stream",
          "name": "stdout",
          "text": [
            "Collecting selenium\n",
            "  Downloading selenium-4.11.2-py3-none-any.whl (7.2 MB)\n",
            "\u001b[2K     \u001b[90m━━━━━━━━━━━━━━━━━━━━━━━━━━━━━━━━━━━━━━━━\u001b[0m \u001b[32m7.2/7.2 MB\u001b[0m \u001b[31m22.3 MB/s\u001b[0m eta \u001b[36m0:00:00\u001b[0m\n",
            "\u001b[?25hRequirement already satisfied: urllib3[socks]<3,>=1.26 in /usr/local/lib/python3.10/dist-packages (from selenium) (2.0.4)\n",
            "Collecting trio~=0.17 (from selenium)\n",
            "  Downloading trio-0.22.2-py3-none-any.whl (400 kB)\n",
            "\u001b[2K     \u001b[90m━━━━━━━━━━━━━━━━━━━━━━━━━━━━━━━━━━━━━━\u001b[0m \u001b[32m400.2/400.2 kB\u001b[0m \u001b[31m32.5 MB/s\u001b[0m eta \u001b[36m0:00:00\u001b[0m\n",
            "\u001b[?25hCollecting trio-websocket~=0.9 (from selenium)\n",
            "  Downloading trio_websocket-0.10.3-py3-none-any.whl (17 kB)\n",
            "Requirement already satisfied: certifi>=2021.10.8 in /usr/local/lib/python3.10/dist-packages (from selenium) (2023.7.22)\n",
            "Requirement already satisfied: attrs>=20.1.0 in /usr/local/lib/python3.10/dist-packages (from trio~=0.17->selenium) (23.1.0)\n",
            "Requirement already satisfied: sortedcontainers in /usr/local/lib/python3.10/dist-packages (from trio~=0.17->selenium) (2.4.0)\n",
            "Requirement already satisfied: idna in /usr/local/lib/python3.10/dist-packages (from trio~=0.17->selenium) (3.4)\n",
            "Collecting outcome (from trio~=0.17->selenium)\n",
            "  Downloading outcome-1.2.0-py2.py3-none-any.whl (9.7 kB)\n",
            "Requirement already satisfied: sniffio in /usr/local/lib/python3.10/dist-packages (from trio~=0.17->selenium) (1.3.0)\n",
            "Requirement already satisfied: exceptiongroup>=1.0.0rc9 in /usr/local/lib/python3.10/dist-packages (from trio~=0.17->selenium) (1.1.2)\n",
            "Collecting wsproto>=0.14 (from trio-websocket~=0.9->selenium)\n",
            "  Downloading wsproto-1.2.0-py3-none-any.whl (24 kB)\n",
            "Requirement already satisfied: pysocks!=1.5.7,<2.0,>=1.5.6 in /usr/local/lib/python3.10/dist-packages (from urllib3[socks]<3,>=1.26->selenium) (1.7.1)\n",
            "Collecting h11<1,>=0.9.0 (from wsproto>=0.14->trio-websocket~=0.9->selenium)\n",
            "  Downloading h11-0.14.0-py3-none-any.whl (58 kB)\n",
            "\u001b[2K     \u001b[90m━━━━━━━━━━━━━━━━━━━━━━━━━━━━━━━━━━━━━━━━\u001b[0m \u001b[32m58.3/58.3 kB\u001b[0m \u001b[31m6.6 MB/s\u001b[0m eta \u001b[36m0:00:00\u001b[0m\n",
            "\u001b[?25hInstalling collected packages: outcome, h11, wsproto, trio, trio-websocket, selenium\n",
            "Successfully installed h11-0.14.0 outcome-1.2.0 selenium-4.11.2 trio-0.22.2 trio-websocket-0.10.3 wsproto-1.2.0\n"
          ]
        }
      ]
    },
    {
      "cell_type": "code",
      "source": [
        "from google.colab import files\n",
        "import zipfile\n",
        "\n",
        "# 크롬 드라이버 파일 업로드\n",
        "uploaded = files.upload()\n",
        "\n",
        "# 업로드한 드라이버 파일의 이름을 정확하게 수정해주세요.\n",
        "driver_zip_filename = 'chromedriver-linux64.zip'\n",
        "\n",
        "# 드라이버 파일 압축 해제\n",
        "with zipfile.ZipFile(driver_zip_filename, 'r') as zip_ref:\n",
        "    zip_ref.extractall('/content/')\n"
      ],
      "metadata": {
        "id": "AB3E8RcEThmg",
        "outputId": "1fc5ada9-ad9b-4724-96eb-8b0ee4ab90f1",
        "colab": {
          "base_uri": "https://localhost:8080/",
          "height": 74
        }
      },
      "execution_count": 2,
      "outputs": [
        {
          "output_type": "display_data",
          "data": {
            "text/plain": [
              "<IPython.core.display.HTML object>"
            ],
            "text/html": [
              "\n",
              "     <input type=\"file\" id=\"files-6747a975-6cfe-4862-a8a4-87d497a2bac4\" name=\"files[]\" multiple disabled\n",
              "        style=\"border:none\" />\n",
              "     <output id=\"result-6747a975-6cfe-4862-a8a4-87d497a2bac4\">\n",
              "      Upload widget is only available when the cell has been executed in the\n",
              "      current browser session. Please rerun this cell to enable.\n",
              "      </output>\n",
              "      <script>// Copyright 2017 Google LLC\n",
              "//\n",
              "// Licensed under the Apache License, Version 2.0 (the \"License\");\n",
              "// you may not use this file except in compliance with the License.\n",
              "// You may obtain a copy of the License at\n",
              "//\n",
              "//      http://www.apache.org/licenses/LICENSE-2.0\n",
              "//\n",
              "// Unless required by applicable law or agreed to in writing, software\n",
              "// distributed under the License is distributed on an \"AS IS\" BASIS,\n",
              "// WITHOUT WARRANTIES OR CONDITIONS OF ANY KIND, either express or implied.\n",
              "// See the License for the specific language governing permissions and\n",
              "// limitations under the License.\n",
              "\n",
              "/**\n",
              " * @fileoverview Helpers for google.colab Python module.\n",
              " */\n",
              "(function(scope) {\n",
              "function span(text, styleAttributes = {}) {\n",
              "  const element = document.createElement('span');\n",
              "  element.textContent = text;\n",
              "  for (const key of Object.keys(styleAttributes)) {\n",
              "    element.style[key] = styleAttributes[key];\n",
              "  }\n",
              "  return element;\n",
              "}\n",
              "\n",
              "// Max number of bytes which will be uploaded at a time.\n",
              "const MAX_PAYLOAD_SIZE = 100 * 1024;\n",
              "\n",
              "function _uploadFiles(inputId, outputId) {\n",
              "  const steps = uploadFilesStep(inputId, outputId);\n",
              "  const outputElement = document.getElementById(outputId);\n",
              "  // Cache steps on the outputElement to make it available for the next call\n",
              "  // to uploadFilesContinue from Python.\n",
              "  outputElement.steps = steps;\n",
              "\n",
              "  return _uploadFilesContinue(outputId);\n",
              "}\n",
              "\n",
              "// This is roughly an async generator (not supported in the browser yet),\n",
              "// where there are multiple asynchronous steps and the Python side is going\n",
              "// to poll for completion of each step.\n",
              "// This uses a Promise to block the python side on completion of each step,\n",
              "// then passes the result of the previous step as the input to the next step.\n",
              "function _uploadFilesContinue(outputId) {\n",
              "  const outputElement = document.getElementById(outputId);\n",
              "  const steps = outputElement.steps;\n",
              "\n",
              "  const next = steps.next(outputElement.lastPromiseValue);\n",
              "  return Promise.resolve(next.value.promise).then((value) => {\n",
              "    // Cache the last promise value to make it available to the next\n",
              "    // step of the generator.\n",
              "    outputElement.lastPromiseValue = value;\n",
              "    return next.value.response;\n",
              "  });\n",
              "}\n",
              "\n",
              "/**\n",
              " * Generator function which is called between each async step of the upload\n",
              " * process.\n",
              " * @param {string} inputId Element ID of the input file picker element.\n",
              " * @param {string} outputId Element ID of the output display.\n",
              " * @return {!Iterable<!Object>} Iterable of next steps.\n",
              " */\n",
              "function* uploadFilesStep(inputId, outputId) {\n",
              "  const inputElement = document.getElementById(inputId);\n",
              "  inputElement.disabled = false;\n",
              "\n",
              "  const outputElement = document.getElementById(outputId);\n",
              "  outputElement.innerHTML = '';\n",
              "\n",
              "  const pickedPromise = new Promise((resolve) => {\n",
              "    inputElement.addEventListener('change', (e) => {\n",
              "      resolve(e.target.files);\n",
              "    });\n",
              "  });\n",
              "\n",
              "  const cancel = document.createElement('button');\n",
              "  inputElement.parentElement.appendChild(cancel);\n",
              "  cancel.textContent = 'Cancel upload';\n",
              "  const cancelPromise = new Promise((resolve) => {\n",
              "    cancel.onclick = () => {\n",
              "      resolve(null);\n",
              "    };\n",
              "  });\n",
              "\n",
              "  // Wait for the user to pick the files.\n",
              "  const files = yield {\n",
              "    promise: Promise.race([pickedPromise, cancelPromise]),\n",
              "    response: {\n",
              "      action: 'starting',\n",
              "    }\n",
              "  };\n",
              "\n",
              "  cancel.remove();\n",
              "\n",
              "  // Disable the input element since further picks are not allowed.\n",
              "  inputElement.disabled = true;\n",
              "\n",
              "  if (!files) {\n",
              "    return {\n",
              "      response: {\n",
              "        action: 'complete',\n",
              "      }\n",
              "    };\n",
              "  }\n",
              "\n",
              "  for (const file of files) {\n",
              "    const li = document.createElement('li');\n",
              "    li.append(span(file.name, {fontWeight: 'bold'}));\n",
              "    li.append(span(\n",
              "        `(${file.type || 'n/a'}) - ${file.size} bytes, ` +\n",
              "        `last modified: ${\n",
              "            file.lastModifiedDate ? file.lastModifiedDate.toLocaleDateString() :\n",
              "                                    'n/a'} - `));\n",
              "    const percent = span('0% done');\n",
              "    li.appendChild(percent);\n",
              "\n",
              "    outputElement.appendChild(li);\n",
              "\n",
              "    const fileDataPromise = new Promise((resolve) => {\n",
              "      const reader = new FileReader();\n",
              "      reader.onload = (e) => {\n",
              "        resolve(e.target.result);\n",
              "      };\n",
              "      reader.readAsArrayBuffer(file);\n",
              "    });\n",
              "    // Wait for the data to be ready.\n",
              "    let fileData = yield {\n",
              "      promise: fileDataPromise,\n",
              "      response: {\n",
              "        action: 'continue',\n",
              "      }\n",
              "    };\n",
              "\n",
              "    // Use a chunked sending to avoid message size limits. See b/62115660.\n",
              "    let position = 0;\n",
              "    do {\n",
              "      const length = Math.min(fileData.byteLength - position, MAX_PAYLOAD_SIZE);\n",
              "      const chunk = new Uint8Array(fileData, position, length);\n",
              "      position += length;\n",
              "\n",
              "      const base64 = btoa(String.fromCharCode.apply(null, chunk));\n",
              "      yield {\n",
              "        response: {\n",
              "          action: 'append',\n",
              "          file: file.name,\n",
              "          data: base64,\n",
              "        },\n",
              "      };\n",
              "\n",
              "      let percentDone = fileData.byteLength === 0 ?\n",
              "          100 :\n",
              "          Math.round((position / fileData.byteLength) * 100);\n",
              "      percent.textContent = `${percentDone}% done`;\n",
              "\n",
              "    } while (position < fileData.byteLength);\n",
              "  }\n",
              "\n",
              "  // All done.\n",
              "  yield {\n",
              "    response: {\n",
              "      action: 'complete',\n",
              "    }\n",
              "  };\n",
              "}\n",
              "\n",
              "scope.google = scope.google || {};\n",
              "scope.google.colab = scope.google.colab || {};\n",
              "scope.google.colab._files = {\n",
              "  _uploadFiles,\n",
              "  _uploadFilesContinue,\n",
              "};\n",
              "})(self);\n",
              "</script> "
            ]
          },
          "metadata": {}
        },
        {
          "output_type": "stream",
          "name": "stdout",
          "text": [
            "Saving chromedriver-linux64.zip to chromedriver-linux64 (1).zip\n"
          ]
        }
      ]
    },
    {
      "cell_type": "code",
      "source": [
        "import os\n",
        "\n",
        "# 드라이버 파일의 경로와 이름을 정확하게 수정해주세요.\n",
        "driver_path = '/content/chromedriver-linux64/chromedriver'\n",
        "\n",
        "# 실행 권한 부여\n",
        "os.chmod(driver_path, 0o755)\n"
      ],
      "metadata": {
        "id": "54CkYV8WT3XN"
      },
      "execution_count": 3,
      "outputs": []
    },
    {
      "cell_type": "code",
      "source": [
        "from selenium import webdriver\n",
        "\n",
        "# ChromeOptions 객체 생성\n",
        "chrome_options = webdriver.ChromeOptions()\n",
        "\n",
        "# Headless 모드 설정\n",
        "chrome_options.add_argument('--headless')\n",
        "chrome_options.add_argument('--no-sandbox')\n",
        "chrome_options.add_argument('--disable-dev-shm-usage')\n",
        "\n",
        "# 크롬 드라이버 실행\n",
        "driver = webdriver.Chrome(options=chrome_options)\n",
        "\n",
        "# 원하는 웹 스크래핑 작업 수행\n",
        "# ...\n",
        "\n",
        "# 브라우저 종료\n",
        "#driver.quit()\n"
      ],
      "metadata": {
        "id": "JnwNomgeUPZj"
      },
      "execution_count": 4,
      "outputs": []
    },
    {
      "cell_type": "markdown",
      "source": [
        "# 이 부분은 처음 한번만 실행하면 됌.\n",
        "# 코드 수정 - \"The reason is that the last Ubuntu update update supports chromium driver just via snap.\"\n",
        "# 최근 우분투 업데이트에서 크롬 드라이버 설치를 snap을 이용해서만 하도록 바뀜\n",
        "# 고로 snap 없이 설치하는 아래 우회 코드로 변경\n",
        "# 출처 : https://colab.research.google.com/drive/1cbEvuZOhkouYLda3RqiwtbM-o9hxGLyC\n",
        "# 출처2 : https://stackoverflow.com/questions/75155063/selenium-use-chrome-on-colab-got-unexpectedly-exited\n",
        "\n",
        "%%shell\n",
        "# Ubuntu no longer distributes chromium-browser outside of snap\n",
        "#\n",
        "# Proposed solution: https://askubuntu.com/questions/1204571/how-to-install-chromium-without-snap\n",
        "\n",
        "# Add debian buster\n",
        "cat > /etc/apt/sources.list.d/debian.list <<'EOF'\n",
        "deb [arch=amd64 signed-by=/usr/share/keyrings/debian-buster.gpg] http://deb.debian.org/debian buster main\n",
        "deb [arch=amd64 signed-by=/usr/share/keyrings/debian-buster-updates.gpg] http://deb.debian.org/debian buster-updates main\n",
        "deb [arch=amd64 signed-by=/usr/share/keyrings/debian-security-buster.gpg] http://deb.debian.org/debian-security buster/updates main\n",
        "EOF\n",
        "\n",
        "# Add keys\n",
        "apt-key adv --keyserver keyserver.ubuntu.com --recv-keys DCC9EFBF77E11517\n",
        "apt-key adv --keyserver keyserver.ubuntu.com --recv-keys 648ACFD622F3D138\n",
        "apt-key adv --keyserver keyserver.ubuntu.com --recv-keys 112695A0E562B32A\n",
        "\n",
        "apt-key export 77E11517 | gpg --dearmour -o /usr/share/keyrings/debian-buster.gpg\n",
        "apt-key export 22F3D138 | gpg --dearmour -o /usr/share/keyrings/debian-buster-updates.gpg\n",
        "apt-key export E562B32A | gpg --dearmour -o /usr/share/keyrings/debian-security-buster.gpg\n",
        "\n",
        "# Prefer debian repo for chromium* packages only\n",
        "# Note the double-blank lines between entries\n",
        "cat > /etc/apt/preferences.d/chromium.pref << 'EOF'\n",
        "Package: *\n",
        "Pin: release a=eoan\n",
        "Pin-Priority: 500\n",
        "\n",
        "\n",
        "Package: *\n",
        "Pin: origin \"deb.debian.org\"\n",
        "Pin-Priority: 300\n",
        "\n",
        "\n",
        "Package: chromium*\n",
        "Pin: origin \"deb.debian.org\"\n",
        "Pin-Priority: 700\n",
        "EOF\n",
        "\n",
        "# Install chromium and chromium-driver\n",
        "apt-get update\n",
        "apt-get install chromium chromium-driver\n",
        "\n",
        "# Install selenium\n",
        "pip install selenium"
      ],
      "metadata": {
        "id": "sZQjQn-Fz89n"
      }
    },
    {
      "cell_type": "code",
      "metadata": {
        "id": "qZIhruVX0ACk"
      },
      "source": [
        "# -*- coding: UTF-8 -*-\n",
        "import time\n",
        "from selenium.webdriver.common.by import By"
      ],
      "execution_count": 7,
      "outputs": []
    },
    {
      "cell_type": "code",
      "metadata": {
        "id": "iilDpT3z0Jd0"
      },
      "source": [
        "#해당 url로 이동\n",
        "url = \"https://www.airportal.go.kr/knowledge/statsnew/air/airport.jsp#\"\n",
        "driver.get(url)"
      ],
      "execution_count": 8,
      "outputs": []
    },
    {
      "cell_type": "code",
      "metadata": {
        "id": "Ay4CI6Dh0sji",
        "colab": {
          "base_uri": "https://localhost:8080/"
        },
        "outputId": "648490c8-bf15-46be-af83-b2646beccc66"
      },
      "source": [
        "# 페이지 소스 가져오기 & title 태그 웹 사이트 제목 가져오기\n",
        "html = driver.page_source\n",
        "print(html.split(\"<title>\")[1].split(\"</title>\")[0])"
      ],
      "execution_count": 9,
      "outputs": [
        {
          "output_type": "stream",
          "name": "stdout",
          "text": [
            "항공통계\n"
          ]
        }
      ]
    },
    {
      "cell_type": "code",
      "source": [
        "#공항\n",
        "search = driver.find_elements(By.CSS_SELECTOR,'#mySheet-table > tbody > tr:nth-child(3) > td > div > div.GMPageOne > table > tbody .HideCol0C1')\n",
        "print('공항')\n",
        "for i in search:\n",
        "  print(i.text)\n",
        "#화물\n",
        "search = driver.find_elements(By.CSS_SELECTOR,'#mySheet-table > tbody > tr:nth-child(3) > td > div > div.GMPageOne > table > tbody .HideCol0C5')\n",
        "print('화믈')\n",
        "\n",
        "for i in search:\n",
        "  print(i.text)\n",
        "#여객\n",
        "search = driver.find_elements(By.CSS_SELECTOR,'#mySheet-table > tbody > tr:nth-child(3) > td > div > div.GMPageOne > table > tbody .HideCol0C4')\n",
        "print('여객')\n",
        "\n",
        "for i in search:\n",
        "  print(i.text)\n",
        "#공급\n",
        "search = driver.find_elements(By.CSS_SELECTOR,'#mySheet-table > tbody > tr:nth-child(3) > td > div > div.GMPageOne > table > tbody .HideCol0C2')\n",
        "print('공급')\n",
        "\n",
        "for i in search:\n",
        "  print(i.text)\n",
        "#운항\n",
        "search = driver.find_elements(By.CSS_SELECTOR,'#mySheet-table > tbody > tr:nth-child(3) > td > div > div.GMPageOne > table > tbody .HideCol0C3')\n",
        "print('운항')\n",
        "\n",
        "for i in search:\n",
        "  print(i.text)"
      ],
      "metadata": {
        "id": "kNIJzVPjnV9X",
        "outputId": "6649ba34-9429-474d-b56c-7811655dbba8",
        "colab": {
          "base_uri": "https://localhost:8080/"
        }
      },
      "execution_count": 12,
      "outputs": [
        {
          "output_type": "stream",
          "name": "stdout",
          "text": [
            "공항\n",
            "전체 합계\n",
            "인천(ICN)\n",
            "김포(GMP)\n",
            "김해(PUS)\n",
            "제주(CJU)\n",
            "대구(TAE)\n",
            "광주(KWJ)\n",
            "청주(CJJ)\n",
            "여수(RSU)\n",
            "울산(USN)\n",
            "사천(HIN)\n",
            "포항(KPO)\n",
            "원주(WJU)\n",
            "화믈\n",
            "16,255\n",
            "315\n",
            "5,349\n",
            "1,785\n",
            "7,038\n",
            "472\n",
            "382\n",
            "650\n",
            "102\n",
            "57\n",
            "18\n",
            "43\n",
            "41\n",
            "여객\n",
            "2,594,570\n",
            "16,479\n",
            "836,670\n",
            "289,672\n",
            "1,084,145\n",
            "88,490\n",
            "86,240\n",
            "128,332\n",
            "24,658\n",
            "14,668\n",
            "7,667\n",
            "9,691\n",
            "7,858\n",
            "공급\n",
            "3,013,473\n",
            "24,788\n",
            "941,481\n",
            "325,914\n",
            "1,272,357\n",
            "100,504\n",
            "112,719\n",
            "147,331\n",
            "32,967\n",
            "17,801\n",
            "11,718\n",
            "15,120\n",
            "10,773\n",
            "운항\n",
            "15,965\n",
            "151\n",
            "4,932\n",
            "1,801\n",
            "6,631\n",
            "548\n",
            "611\n",
            "791\n",
            "184\n",
            "117\n",
            "62\n",
            "80\n",
            "57\n"
          ]
        }
      ]
    },
    {
      "cell_type": "code",
      "source": [
        "option_select=driver.find_element(By.CSS_SELECTOR,'#end_month')\n",
        "option_select.text"
      ],
      "metadata": {
        "id": "ULzcXR1qV5xB",
        "outputId": "02aa1a04-6c38-47bc-d1de-93f700b6cdab",
        "colab": {
          "base_uri": "https://localhost:8080/",
          "height": 107
        }
      },
      "execution_count": 15,
      "outputs": [
        {
          "output_type": "execute_result",
          "data": {
            "text/plain": [
              "'                                                    1\\n                                                    2\\n                                                    3\\n                                                    4\\n                                                    5\\n                                                    6\\n                                                    7\\n                                                    8\\n                                                    9\\n                                                    10\\n                                                    11\\n                                                    12\\n                                                '"
            ],
            "application/vnd.google.colaboratory.intrinsic+json": {
              "type": "string"
            }
          },
          "metadata": {},
          "execution_count": 15
        }
      ]
    },
    {
      "cell_type": "code",
      "source": [
        "from selenium.webdriver import ActionChains #동작을 위한 요소\n",
        "act = ActionChains(driver) #동작 제어문 지정\n",
        "### 예시 ###\n",
        "start_year_option=driver.find_element(By.CSS_SELECTOR,'#start_year') #시작년도 경로지정\n",
        "\n",
        "end_year_option=driver.find_element(By.CSS_SELECTOR,'#end_year') #끝년도 경로지정\n",
        "\n",
        "start_month_option=driver.find_element(By.CSS_SELECTOR,'#start_month') #시작 달 경로지정\n",
        "\n",
        "end_month_option=driver.find_element(By.CSS_SELECTOR,'#end_month') #끝 달 경로지정\n",
        "\n",
        "act.click(option_select).send_keys('6').perform()  # element1  클릭 동작을 수행\n",
        "\n"
      ],
      "metadata": {
        "id": "djW3G1P2ba_3"
      },
      "execution_count": 16,
      "outputs": []
    },
    {
      "cell_type": "code",
      "source": [
        "#공항\n",
        "search = driver.find_elements(By.CSS_SELECTOR,'#mySheet-table > tbody > tr:nth-child(3) > td > div > div.GMPageOne > table > tbody .HideCol0C1')\n",
        "print('공항')\n",
        "for i in search:\n",
        "  print(i.text)\n",
        "#화물\n",
        "search = driver.find_elements(By.CSS_SELECTOR,'#mySheet-table > tbody > tr:nth-child(3) > td > div > div.GMPageOne > table > tbody .HideCol0C5')\n",
        "print('화믈')\n",
        "\n",
        "for i in search:\n",
        "  print(i.text)\n",
        "#여객\n",
        "search = driver.find_elements(By.CSS_SELECTOR,'#mySheet-table > tbody > tr:nth-child(3) > td > div > div.GMPageOne > table > tbody .HideCol0C4')\n",
        "print('여객')\n",
        "\n",
        "for i in search:\n",
        "  print(i.text)\n",
        "#공급\n",
        "search = driver.find_elements(By.CSS_SELECTOR,'#mySheet-table > tbody > tr:nth-child(3) > td > div > div.GMPageOne > table > tbody .HideCol0C2')\n",
        "print('공급')\n",
        "\n",
        "for i in search:\n",
        "  print(i.text)\n",
        "#운항\n",
        "search = driver.find_elements(By.CSS_SELECTOR,'#mySheet-table > tbody > tr:nth-child(3) > td > div > div.GMPageOne > table > tbody .HideCol0C3')\n",
        "print('운항')\n",
        "\n",
        "for i in search:\n",
        "  print(i.text)"
      ],
      "metadata": {
        "id": "r-E4FFMBcfLS",
        "outputId": "fb0e2bba-b1ad-40eb-ab1d-a2cc756176ae",
        "colab": {
          "base_uri": "https://localhost:8080/"
        }
      },
      "execution_count": 17,
      "outputs": [
        {
          "output_type": "stream",
          "name": "stdout",
          "text": [
            "공항\n",
            "전체 합계\n",
            "인천(ICN)\n",
            "김포(GMP)\n",
            "김해(PUS)\n",
            "제주(CJU)\n",
            "대구(TAE)\n",
            "광주(KWJ)\n",
            "청주(CJJ)\n",
            "여수(RSU)\n",
            "울산(USN)\n",
            "사천(HIN)\n",
            "포항(KPO)\n",
            "원주(WJU)\n",
            "화믈\n",
            "16,255\n",
            "315\n",
            "5,349\n",
            "1,785\n",
            "7,038\n",
            "472\n",
            "382\n",
            "650\n",
            "102\n",
            "57\n",
            "18\n",
            "43\n",
            "41\n",
            "여객\n",
            "2,594,570\n",
            "16,479\n",
            "836,670\n",
            "289,672\n",
            "1,084,145\n",
            "88,490\n",
            "86,240\n",
            "128,332\n",
            "24,658\n",
            "14,668\n",
            "7,667\n",
            "9,691\n",
            "7,858\n",
            "공급\n",
            "3,013,473\n",
            "24,788\n",
            "941,481\n",
            "325,914\n",
            "1,272,357\n",
            "100,504\n",
            "112,719\n",
            "147,331\n",
            "32,967\n",
            "17,801\n",
            "11,718\n",
            "15,120\n",
            "10,773\n",
            "운항\n",
            "15,965\n",
            "151\n",
            "4,932\n",
            "1,801\n",
            "6,631\n",
            "548\n",
            "611\n",
            "791\n",
            "184\n",
            "117\n",
            "62\n",
            "80\n",
            "57\n"
          ]
        }
      ]
    },
    {
      "cell_type": "code",
      "source": [],
      "metadata": {
        "id": "Vnp2iWgjcgN1"
      },
      "execution_count": null,
      "outputs": []
    }
  ]
}