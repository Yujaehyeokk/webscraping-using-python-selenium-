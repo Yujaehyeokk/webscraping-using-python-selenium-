{
  "nbformat": 4,
  "nbformat_minor": 0,
  "metadata": {
    "colab": {
      "provenance": []
    },
    "kernelspec": {
      "name": "python3",
      "display_name": "Python 3"
    },
    "language_info": {
      "name": "python"
    }
  },
  "cells": [
    {
      "cell_type": "code",
      "source": [
        "%%shell\n",
        "sudo apt -y update\n",
        "sudo apt install -y wget curl unzip\n",
        "wget http://archive.ubuntu.com/ubuntu/pool/main/libu/libu2f-host/libu2f-udev_1.1.4-1_all.deb\n",
        "dpkg -i libu2f-udev_1.1.4-1_all.deb\n",
        "wget https://dl.google.com/linux/direct/google-chrome-stable_current_amd64.deb\n",
        "dpkg -i google-chrome-stable_current_amd64.deb\n",
        "CHROME_DRIVER_VERSION=`curl -sS chromedriver.storage.googleapis.com/LATEST_RELEASE`\n",
        "wget -N https://chromedriver.storage.googleapis.com/$CHROME_DRIVER_VERSION/chromedriver_linux64.zip -P /tmp/\n",
        "unzip -o /tmp/chromedriver_linux64.zip -d /tmp/\n",
        "chmod +x /tmp/chromedriver\n",
        "mv /tmp/chromedriver /usr/local/bin/chromedriver\n",
        "pip install selenium"
      ],
      "metadata": {
        "colab": {
          "base_uri": "https://localhost:8080/"
        },
        "id": "M3ujrQtBDUAR",
        "outputId": "e0840226-0b60-498a-97aa-12a7f3f58a80"
      },
      "execution_count": 2,
      "outputs": [
        {
          "output_type": "stream",
          "name": "stdout",
          "text": [
            "\u001b[33m\r0% [Working]\u001b[0m\r            \rGet:1 https://cloud.r-project.org/bin/linux/ubuntu jammy-cran40/ InRelease [3,626 B]\n",
            "\u001b[33m\r0% [Connecting to archive.ubuntu.com (185.125.190.39)] [Waiting for headers] [1\u001b[0m\u001b[33m\r0% [Connecting to archive.ubuntu.com (185.125.190.39)] [Waiting for headers] [C\u001b[0m\r                                                                               \rHit:2 https://developer.download.nvidia.com/compute/cuda/repos/ubuntu2204/x86_64  InRelease\n",
            "\u001b[33m\r0% [Connecting to archive.ubuntu.com (185.125.190.39)] [Waiting for headers] [C\u001b[0m\r                                                                               \rGet:3 http://security.ubuntu.com/ubuntu jammy-security InRelease [110 kB]\n",
            "Hit:4 http://archive.ubuntu.com/ubuntu jammy InRelease\n",
            "Get:5 http://archive.ubuntu.com/ubuntu jammy-updates InRelease [119 kB]\n",
            "Get:6 https://ppa.launchpadcontent.net/c2d4u.team/c2d4u4.0+/ubuntu jammy InRelease [18.1 kB]\n",
            "Get:7 http://security.ubuntu.com/ubuntu jammy-security/universe amd64 Packages [979 kB]\n",
            "Get:8 http://archive.ubuntu.com/ubuntu jammy-backports InRelease [109 kB]\n",
            "Hit:9 https://ppa.launchpadcontent.net/deadsnakes/ppa/ubuntu jammy InRelease\n",
            "Get:10 http://archive.ubuntu.com/ubuntu jammy-updates/restricted amd64 Packages [918 kB]\n",
            "Get:11 http://security.ubuntu.com/ubuntu jammy-security/restricted amd64 Packages [857 kB]\n",
            "Get:12 http://security.ubuntu.com/ubuntu jammy-security/main amd64 Packages [832 kB]\n",
            "Get:13 http://archive.ubuntu.com/ubuntu jammy-updates/multiverse amd64 Packages [49.8 kB]\n",
            "Get:14 http://archive.ubuntu.com/ubuntu jammy-updates/universe amd64 Packages [1,236 kB]\n",
            "Get:15 https://ppa.launchpadcontent.net/graphics-drivers/ppa/ubuntu jammy InRelease [24.3 kB]\n",
            "Get:16 http://archive.ubuntu.com/ubuntu jammy-updates/main amd64 Packages [1,129 kB]\n",
            "Hit:17 https://ppa.launchpadcontent.net/ubuntugis/ppa/ubuntu jammy InRelease\n",
            "Get:18 https://ppa.launchpadcontent.net/c2d4u.team/c2d4u4.0+/ubuntu jammy/main Sources [2,165 kB]\n",
            "Get:19 https://ppa.launchpadcontent.net/c2d4u.team/c2d4u4.0+/ubuntu jammy/main amd64 Packages [1,112 kB]\n",
            "Get:20 https://ppa.launchpadcontent.net/graphics-drivers/ppa/ubuntu jammy/main amd64 Packages [36.0 kB]\n",
            "Fetched 9,697 kB in 4s (2,205 kB/s)\n",
            "Reading package lists... Done\n",
            "Building dependency tree... Done\n",
            "Reading state information... Done\n",
            "23 packages can be upgraded. Run 'apt list --upgradable' to see them.\n",
            "Reading package lists... Done\n",
            "Building dependency tree... Done\n",
            "Reading state information... Done\n",
            "wget is already the newest version (1.21.2-2ubuntu1).\n",
            "curl is already the newest version (7.81.0-1ubuntu1.13).\n",
            "unzip is already the newest version (6.0-26ubuntu3.1).\n",
            "0 upgraded, 0 newly installed, 0 to remove and 23 not upgraded.\n",
            "--2023-08-15 10:08:20--  http://archive.ubuntu.com/ubuntu/pool/main/libu/libu2f-host/libu2f-udev_1.1.4-1_all.deb\n",
            "Resolving archive.ubuntu.com (archive.ubuntu.com)... 185.125.190.39, 91.189.91.81, 91.189.91.82, ...\n",
            "Connecting to archive.ubuntu.com (archive.ubuntu.com)|185.125.190.39|:80... connected.\n",
            "HTTP request sent, awaiting response... 200 OK\n",
            "Length: 3708 (3.6K) [application/x-debian-package]\n",
            "Saving to: ‘libu2f-udev_1.1.4-1_all.deb’\n",
            "\n",
            "libu2f-udev_1.1.4-1 100%[===================>]   3.62K  --.-KB/s    in 0s      \n",
            "\n",
            "2023-08-15 10:08:20 (246 MB/s) - ‘libu2f-udev_1.1.4-1_all.deb’ saved [3708/3708]\n",
            "\n",
            "Selecting previously unselected package libu2f-udev.\n",
            "(Reading database ... 120828 files and directories currently installed.)\n",
            "Preparing to unpack libu2f-udev_1.1.4-1_all.deb ...\n",
            "Unpacking libu2f-udev (1.1.4-1) ...\n",
            "Setting up libu2f-udev (1.1.4-1) ...\n",
            "--2023-08-15 10:08:22--  https://dl.google.com/linux/direct/google-chrome-stable_current_amd64.deb\n",
            "Resolving dl.google.com (dl.google.com)... 108.177.12.190, 108.177.12.93, 108.177.12.136, ...\n",
            "Connecting to dl.google.com (dl.google.com)|108.177.12.190|:443... connected.\n",
            "HTTP request sent, awaiting response... 200 OK\n",
            "Length: 95154560 (91M) [application/x-debian-package]\n",
            "Saving to: ‘google-chrome-stable_current_amd64.deb’\n",
            "\n",
            "google-chrome-stabl 100%[===================>]  90.75M   112MB/s    in 0.8s    \n",
            "\n",
            "2023-08-15 10:08:22 (112 MB/s) - ‘google-chrome-stable_current_amd64.deb’ saved [95154560/95154560]\n",
            "\n",
            "Selecting previously unselected package google-chrome-stable.\n",
            "(Reading database ... 120832 files and directories currently installed.)\n",
            "Preparing to unpack google-chrome-stable_current_amd64.deb ...\n",
            "Unpacking google-chrome-stable (115.0.5790.170-1) ...\n",
            "\u001b[1mdpkg:\u001b[0m dependency problems prevent configuration of google-chrome-stable:\n",
            " google-chrome-stable depends on libvulkan1; however:\n",
            "  Package libvulkan1 is not installed.\n",
            "\n",
            "\u001b[1mdpkg:\u001b[0m error processing package google-chrome-stable (--install):\n",
            " dependency problems - leaving unconfigured\n",
            "Processing triggers for man-db (2.10.2-1) ...\n",
            "Errors were encountered while processing:\n",
            " google-chrome-stable\n",
            "--2023-08-15 10:08:35--  https://chromedriver.storage.googleapis.com/114.0.5735.90/chromedriver_linux64.zip\n",
            "Resolving chromedriver.storage.googleapis.com (chromedriver.storage.googleapis.com)... 74.125.196.207, 74.125.134.207, 74.125.141.207, ...\n",
            "Connecting to chromedriver.storage.googleapis.com (chromedriver.storage.googleapis.com)|74.125.196.207|:443... connected.\n",
            "HTTP request sent, awaiting response... 200 OK\n",
            "Length: 7407250 (7.1M) [application/zip]\n",
            "Saving to: ‘/tmp/chromedriver_linux64.zip’\n",
            "\n",
            "chromedriver_linux6 100%[===================>]   7.06M  --.-KB/s    in 0.04s   \n",
            "\n",
            "2023-08-15 10:08:35 (195 MB/s) - ‘/tmp/chromedriver_linux64.zip’ saved [7407250/7407250]\n",
            "\n",
            "Archive:  /tmp/chromedriver_linux64.zip\n",
            "  inflating: /tmp/chromedriver       \n",
            "  inflating: /tmp/LICENSE.chromedriver  \n",
            "Collecting selenium\n",
            "  Downloading selenium-4.11.2-py3-none-any.whl (7.2 MB)\n",
            "\u001b[2K     \u001b[90m━━━━━━━━━━━━━━━━━━━━━━━━━━━━━━━━━━━━━━━━\u001b[0m \u001b[32m7.2/7.2 MB\u001b[0m \u001b[31m30.3 MB/s\u001b[0m eta \u001b[36m0:00:00\u001b[0m\n",
            "\u001b[?25hRequirement already satisfied: urllib3[socks]<3,>=1.26 in /usr/local/lib/python3.10/dist-packages (from selenium) (2.0.4)\n",
            "Collecting trio~=0.17 (from selenium)\n",
            "  Downloading trio-0.22.2-py3-none-any.whl (400 kB)\n",
            "\u001b[2K     \u001b[90m━━━━━━━━━━━━━━━━━━━━━━━━━━━━━━━━━━━━━━\u001b[0m \u001b[32m400.2/400.2 kB\u001b[0m \u001b[31m28.8 MB/s\u001b[0m eta \u001b[36m0:00:00\u001b[0m\n",
            "\u001b[?25hCollecting trio-websocket~=0.9 (from selenium)\n",
            "  Downloading trio_websocket-0.10.3-py3-none-any.whl (17 kB)\n",
            "Requirement already satisfied: certifi>=2021.10.8 in /usr/local/lib/python3.10/dist-packages (from selenium) (2023.7.22)\n",
            "Requirement already satisfied: attrs>=20.1.0 in /usr/local/lib/python3.10/dist-packages (from trio~=0.17->selenium) (23.1.0)\n",
            "Requirement already satisfied: sortedcontainers in /usr/local/lib/python3.10/dist-packages (from trio~=0.17->selenium) (2.4.0)\n",
            "Requirement already satisfied: idna in /usr/local/lib/python3.10/dist-packages (from trio~=0.17->selenium) (3.4)\n",
            "Collecting outcome (from trio~=0.17->selenium)\n",
            "  Downloading outcome-1.2.0-py2.py3-none-any.whl (9.7 kB)\n",
            "Requirement already satisfied: sniffio in /usr/local/lib/python3.10/dist-packages (from trio~=0.17->selenium) (1.3.0)\n",
            "Requirement already satisfied: exceptiongroup>=1.0.0rc9 in /usr/local/lib/python3.10/dist-packages (from trio~=0.17->selenium) (1.1.2)\n",
            "Collecting wsproto>=0.14 (from trio-websocket~=0.9->selenium)\n",
            "  Downloading wsproto-1.2.0-py3-none-any.whl (24 kB)\n",
            "Requirement already satisfied: pysocks!=1.5.7,<2.0,>=1.5.6 in /usr/local/lib/python3.10/dist-packages (from urllib3[socks]<3,>=1.26->selenium) (1.7.1)\n",
            "Collecting h11<1,>=0.9.0 (from wsproto>=0.14->trio-websocket~=0.9->selenium)\n",
            "  Downloading h11-0.14.0-py3-none-any.whl (58 kB)\n",
            "\u001b[2K     \u001b[90m━━━━━━━━━━━━━━━━━━━━━━━━━━━━━━━━━━━━━━━━\u001b[0m \u001b[32m58.3/58.3 kB\u001b[0m \u001b[31m6.0 MB/s\u001b[0m eta \u001b[36m0:00:00\u001b[0m\n",
            "\u001b[?25hInstalling collected packages: outcome, h11, wsproto, trio, trio-websocket, selenium\n",
            "Successfully installed h11-0.14.0 outcome-1.2.0 selenium-4.11.2 trio-0.22.2 trio-websocket-0.10.3 wsproto-1.2.0\n"
          ]
        },
        {
          "output_type": "execute_result",
          "data": {
            "text/plain": []
          },
          "metadata": {},
          "execution_count": 2
        }
      ]
    },
    {
      "cell_type": "code",
      "source": [
        "from selenium import webdriver\n",
        "\n",
        "from bs4 import BeautifulSoup\n",
        "\n",
        "import time\n",
        "\n",
        "from selenium.webdriver.common.keys import Keys\n",
        "\n",
        "from urllib.request import urlopen\n",
        "\n",
        "from urllib.parse import quote_plus\n",
        "\n",
        "from selenium.webdriver.common.keys import Keys\n",
        "\n",
        "import time\n",
        "\n",
        "import sys\n",
        "#[출처] [더미의 AI] 구글 코랩에서 셀레니움 크롤링 파이썬 코드 - Ajax 동적 게시판 크롤링 하기|작성자 더미브릿지"
      ],
      "metadata": {
        "id": "gkec_6kTWRHC"
      },
      "execution_count": 54,
      "outputs": []
    },
    {
      "cell_type": "code",
      "source": [
        "from selenium import webdriver\n",
        "from selenium.webdriver.common.by import By\n",
        "\n",
        "from selenium.webdriver.support.ui import WebDriverWait\n",
        "from selenium.webdriver.support import expected_conditions as EC\n",
        "\n",
        "options = webdriver.ChromeOptions()\n",
        "options.add_argument(\"--headless\")\n",
        "options.add_argument('--disable-dev-shm-usage')\n",
        "options.add_argument(\"--no-sandbox\")\n",
        "driver = webdriver.Chrome(options=options)"
      ],
      "metadata": {
        "colab": {
          "base_uri": "https://localhost:8080/"
        },
        "id": "x_KvaKD5HrKG",
        "outputId": "a2bf560c-ad47-4614-f418-0ff9358e90f0"
      },
      "execution_count": 57,
      "outputs": [
        {
          "output_type": "stream",
          "name": "stderr",
          "text": [
            "WARNING:selenium.webdriver.common.selenium_manager:The chromedriver version (114.0.5735.90) detected in PATH at /usr/local/bin/chromedriver might not be compatible with the detected chrome version (115.0.5790.170); currently, chromedriver 115.0.5790.170 is recommended for chrome 115.*, so it is advised to delete the driver in PATH and retry\n"
          ]
        }
      ]
    },
    {
      "cell_type": "code",
      "source": [
        "URL = \"https://www.airportal.go.kr/knowledge/statsnew/air/airport.jsp#\"\n",
        "driver.get(URL)\n",
        "title = driver.title\n",
        "#driver.close()\n",
        "\n",
        "print(title)"
      ],
      "metadata": {
        "colab": {
          "base_uri": "https://localhost:8080/"
        },
        "id": "8D1mFKqzHvDN",
        "outputId": "1c39e229-2cdd-449b-bcb5-68438dfd342f"
      },
      "execution_count": 67,
      "outputs": [
        {
          "output_type": "stream",
          "name": "stdout",
          "text": [
            "항공통계\n"
          ]
        }
      ]
    },
    {
      "cell_type": "code",
      "source": [
        "search = driver.find_element(By.CSS_SELECTOR,'#mySheet-table > tbody > tr:nth-child(3) > td > div > div.GMPageOne > table > tbody > tr:nth-child(3) > td.GMClassReadOnly.GMWrap0.GMAlignRight.GMInt.GMCell.IBSheetFont0.HideCol0C2')\n",
        "print(search.text)"
      ],
      "metadata": {
        "colab": {
          "base_uri": "https://localhost:8080/"
        },
        "id": "ws3K7N1dIAej",
        "outputId": "f8298ea7-8000-451d-895d-cd8c5bff8667"
      },
      "execution_count": 68,
      "outputs": [
        {
          "output_type": "stream",
          "name": "stdout",
          "text": [
            "24,788\n"
          ]
        }
      ]
    },
    {
      "cell_type": "code",
      "source": [
        "#mySheet-table > tbody > tr:nth-child(3) > td > div > div.GMPageOne > table > tbody > tr.GMDataRow.GMClassFocused > td.GMClassReadOnly.GMClassFocusedCell.GMWrap0.GMAlignRight.GMInt.GMCell.IBSheetFont0.HideCol0C5\n",
        "#mySheet-table > tbody > tr:nth-child(3) > td > div > div.GMPageOne > table > tbody > tr:nth-child(9) > td.GMClassReadOnly.GMWrap0.GMAlignRight.GMInt.GMCell.IBSheetFont0.HideCol0C5\n",
        "#mySheet-table > tbody > tr:nth-child(3) > td > div > div.GMPageOne > table > tbody > tr.GMDataRow.GMClassFocused > td.GMClassReadOnly.GMClassFocusedCell.GMWrap0.GMAlignRight.GMInt.GMCell.IBSheetFont0.HideCol0C5 > b > span\n",
        "#mySheet-table > tbody > tr:nth-child(3) > td > div > div.GMPageOne > table > tbody > tr.GMDataRow.GMClassFocused > td.GMClassReadOnly.GMClassFocusedCell.GMWrap0.GMAlignRight.GMInt.GMCell.IBSheetFont0.HideCol0C5\n",
        "\n",
        "\n",
        "#각 열마다 고유한 클래스안에 속해있음\n",
        "#공항명 : hidecol0c1,공급(석) : hidecol0c2, 운항(편) : hidecol0c3, 여객(명) : hidecol0c4 , 화물(톤) : hidecol0c5"
      ],
      "metadata": {
        "id": "9Us8S3ZqtZIh"
      },
      "execution_count": null,
      "outputs": []
    },
    {
      "cell_type": "code",
      "source": [
        "#공항\n",
        "search = driver.find_elements(By.CSS_SELECTOR,'#mySheet-table > tbody > tr:nth-child(3) > td > div > div.GMPageOne > table > tbody .HideCol0C1')\n",
        "len(search)\n",
        "for i in search:\n",
        "  print(i.text)\n",
        "#화물\n",
        "search = driver.find_elements(By.CSS_SELECTOR,'#mySheet-table > tbody > tr:nth-child(3) > td > div > div.GMPageOne > table > tbody .HideCol0C5')\n",
        "\n",
        "for i in search:\n",
        "  print(i.text)\n",
        "#여객\n",
        "search = driver.find_elements(By.CSS_SELECTOR,'#mySheet-table > tbody > tr:nth-child(3) > td > div > div.GMPageOne > table > tbody .HideCol0C4')\n",
        "\n",
        "for i in search:\n",
        "  print(i.text)\n",
        "#공급\n",
        "search = driver.find_elements(By.CSS_SELECTOR,'#mySheet-table > tbody > tr:nth-child(3) > td > div > div.GMPageOne > table > tbody .HideCol0C2')\n",
        "\n",
        "for i in search:\n",
        "  print(i.text)\n",
        "#운항\n",
        "search = driver.find_elements(By.CSS_SELECTOR,'#mySheet-table > tbody > tr:nth-child(3) > td > div > div.GMPageOne > table > tbody .HideCol0C3')\n",
        "\n",
        "for i in search:\n",
        "  print(i.text)"
      ],
      "metadata": {
        "colab": {
          "base_uri": "https://localhost:8080/"
        },
        "id": "xmb_gLkTKicK",
        "outputId": "2b84aeed-0e0c-40bc-b06c-9550378cbd5d"
      },
      "execution_count": 87,
      "outputs": [
        {
          "output_type": "stream",
          "name": "stdout",
          "text": [
            "전체 합계\n",
            "인천(ICN)\n",
            "김포(GMP)\n",
            "김해(PUS)\n",
            "제주(CJU)\n",
            "대구(TAE)\n",
            "광주(KWJ)\n",
            "청주(CJJ)\n",
            "여수(RSU)\n",
            "울산(USN)\n",
            "사천(HIN)\n",
            "포항(KPO)\n",
            "원주(WJU)\n",
            "16,255\n",
            "315\n",
            "5,349\n",
            "1,785\n",
            "7,038\n",
            "472\n",
            "382\n",
            "650\n",
            "102\n",
            "57\n",
            "18\n",
            "43\n",
            "41\n",
            "2,594,570\n",
            "16,479\n",
            "836,670\n",
            "289,672\n",
            "1,084,145\n",
            "88,490\n",
            "86,240\n",
            "128,332\n",
            "24,658\n",
            "14,668\n",
            "7,667\n",
            "9,691\n",
            "7,858\n",
            "3,013,473\n",
            "24,788\n",
            "941,481\n",
            "325,914\n",
            "1,272,357\n",
            "100,504\n",
            "112,719\n",
            "147,331\n",
            "32,967\n",
            "17,801\n",
            "11,718\n",
            "15,120\n",
            "10,773\n",
            "15,965\n",
            "151\n",
            "4,932\n",
            "1,801\n",
            "6,631\n",
            "548\n",
            "611\n",
            "791\n",
            "184\n",
            "117\n",
            "62\n",
            "80\n",
            "57\n"
          ]
        }
      ]
    },
    {
      "cell_type": "code",
      "source": [
        "a = WebDriverWait(driver, 1).until(\n",
        "    EC.visibility_of_element_located(((By.CSS_SELECTOR,'#mySheet-table > tbody > tr:nth-child(3) > td > div > div.GMPageOne > table > tbody .HideCol0C5'))))"
      ],
      "metadata": {
        "id": "PZkv13t_s9jf"
      },
      "execution_count": 84,
      "outputs": []
    },
    {
      "cell_type": "code",
      "source": [
        "print(a.text)"
      ],
      "metadata": {
        "colab": {
          "base_uri": "https://localhost:8080/"
        },
        "id": "dnGhHhnVxeql",
        "outputId": "dee07c08-0c6a-4b2c-8e3b-60593270e204"
      },
      "execution_count": 85,
      "outputs": [
        {
          "output_type": "stream",
          "name": "stdout",
          "text": [
            "16,255\n"
          ]
        }
      ]
    },
    {
      "cell_type": "code",
      "source": [],
      "metadata": {
        "id": "zyo06joVwhaL"
      },
      "execution_count": null,
      "outputs": []
    }
  ]
}